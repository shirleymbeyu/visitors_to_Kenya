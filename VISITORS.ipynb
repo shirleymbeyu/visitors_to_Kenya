{
 "metadata": {
  "language_info": {
   "codemirror_mode": {
    "name": "ipython",
    "version": 3
   },
   "file_extension": ".py",
   "mimetype": "text/x-python",
   "name": "python",
   "nbconvert_exporter": "python",
   "pygments_lexer": "ipython3",
   "version": "3.7.6-final"
  },
  "orig_nbformat": 2,
  "kernelspec": {
   "name": "python_defaultSpec_1602913656763",
   "display_name": "Python 3.7.6 64-bit ('base': conda)"
  }
 },
 "nbformat": 4,
 "nbformat_minor": 2,
 "cells": [
  {
   "source": [
    "Libraries:"
   ],
   "cell_type": "markdown",
   "metadata": {}
  },
  {
   "cell_type": "code",
   "execution_count": 2,
   "metadata": {},
   "outputs": [],
   "source": [
    "import pandas as pd \n",
    "import matplotlib as plt\n",
    "import numpy as numpy\n",
    "import seaborn as sns\n"
   ]
  },
  {
   "source": [
    "Loading the dataset and viewing a few columns:"
   ],
   "cell_type": "markdown",
   "metadata": {}
  },
  {
   "cell_type": "code",
   "execution_count": 3,
   "metadata": {},
   "outputs": [
    {
     "output_type": "execute_result",
     "data": {
      "text/plain": "  Arrival_or_Departure      Date_End_of_Quater Year_Text  \\\n0             Arrivals  03/31/2005 12:00:00 AM      2005   \n1             Arrivals  06/30/1991 12:00:00 AM      1991   \n2             Arrivals  09/30/1991 12:00:00 AM      1991   \n3             Arrivals  12/31/1991 12:00:00 AM      1991   \n4             Arrivals  03/31/1992 12:00:00 AM      1992   \n\n   No_of_Visitors_to_Kenya  Visitors_by_Purpose Period_Quater Results_Status  \\\n0                   264600  Visitors on Holiday            Q1         Actual   \n1                   149400  Visitors on Holiday            Q2         Actual   \n2                   215900  Visitors on Holiday            Q3         Actual   \n3                   158400  Visitors on Holiday            Q4         Actual   \n4                   155400  Visitors on Holiday            Q1         Actual   \n\n   OBJECTID  \n0         0  \n1         1  \n2         2  \n3         3  \n4         4  ",
      "text/html": "<div>\n<style scoped>\n    .dataframe tbody tr th:only-of-type {\n        vertical-align: middle;\n    }\n\n    .dataframe tbody tr th {\n        vertical-align: top;\n    }\n\n    .dataframe thead th {\n        text-align: right;\n    }\n</style>\n<table border=\"1\" class=\"dataframe\">\n  <thead>\n    <tr style=\"text-align: right;\">\n      <th></th>\n      <th>Arrival_or_Departure</th>\n      <th>Date_End_of_Quater</th>\n      <th>Year_Text</th>\n      <th>No_of_Visitors_to_Kenya</th>\n      <th>Visitors_by_Purpose</th>\n      <th>Period_Quater</th>\n      <th>Results_Status</th>\n      <th>OBJECTID</th>\n    </tr>\n  </thead>\n  <tbody>\n    <tr>\n      <th>0</th>\n      <td>Arrivals</td>\n      <td>03/31/2005 12:00:00 AM</td>\n      <td>2005</td>\n      <td>264600</td>\n      <td>Visitors on Holiday</td>\n      <td>Q1</td>\n      <td>Actual</td>\n      <td>0</td>\n    </tr>\n    <tr>\n      <th>1</th>\n      <td>Arrivals</td>\n      <td>06/30/1991 12:00:00 AM</td>\n      <td>1991</td>\n      <td>149400</td>\n      <td>Visitors on Holiday</td>\n      <td>Q2</td>\n      <td>Actual</td>\n      <td>1</td>\n    </tr>\n    <tr>\n      <th>2</th>\n      <td>Arrivals</td>\n      <td>09/30/1991 12:00:00 AM</td>\n      <td>1991</td>\n      <td>215900</td>\n      <td>Visitors on Holiday</td>\n      <td>Q3</td>\n      <td>Actual</td>\n      <td>2</td>\n    </tr>\n    <tr>\n      <th>3</th>\n      <td>Arrivals</td>\n      <td>12/31/1991 12:00:00 AM</td>\n      <td>1991</td>\n      <td>158400</td>\n      <td>Visitors on Holiday</td>\n      <td>Q4</td>\n      <td>Actual</td>\n      <td>3</td>\n    </tr>\n    <tr>\n      <th>4</th>\n      <td>Arrivals</td>\n      <td>03/31/1992 12:00:00 AM</td>\n      <td>1992</td>\n      <td>155400</td>\n      <td>Visitors on Holiday</td>\n      <td>Q1</td>\n      <td>Actual</td>\n      <td>4</td>\n    </tr>\n  </tbody>\n</table>\n</div>"
     },
     "metadata": {},
     "execution_count": 3
    }
   ],
   "source": [
    "df = pd.read_csv(\"visitors_to_kenya.csv\")\n",
    "df.head()"
   ]
  },
  {
   "cell_type": "code",
   "execution_count": 4,
   "metadata": {
    "tags": []
   },
   "outputs": [
    {
     "output_type": "stream",
     "name": "stdout",
     "text": "<class 'pandas.core.frame.DataFrame'>\nRangeIndex: 832 entries, 0 to 831\nData columns (total 8 columns):\n #   Column                   Non-Null Count  Dtype \n---  ------                   --------------  ----- \n 0   Arrival_or_Departure     832 non-null    object\n 1   Date_End_of_Quater       832 non-null    object\n 2   Year_Text                832 non-null    object\n 3   No_of_Visitors_to_Kenya  832 non-null    int64 \n 4   Visitors_by_Purpose      832 non-null    object\n 5   Period_Quater            832 non-null    object\n 6   Results_Status           832 non-null    object\n 7   OBJECTID                 832 non-null    int64 \ndtypes: int64(2), object(6)\nmemory usage: 52.1+ KB\n"
    }
   ],
   "source": [
    "df.info()"
   ]
  },
  {
   "source": [
    "Viewing what entries there are for each dpecific year"
   ],
   "cell_type": "markdown",
   "metadata": {}
  },
  {
   "cell_type": "code",
   "execution_count": 12,
   "metadata": {},
   "outputs": [
    {
     "output_type": "execute_result",
     "data": {
      "text/plain": "           move   year     num   purpose   Q        status\n104    Arrivals  2014*  266200   holiday  Q1  Preliminary \n105    Arrivals  2014*  207000   holiday  Q2  Preliminary \n106    Arrivals  2014*  267900   holiday  Q3  Preliminary \n107    Arrivals  2014*  235700   holiday  Q4  Preliminary \n121  Departures  2014*  234600   holiday  Q1  Preliminary \n123  Departures  2014*  205600   holiday  Q2  Preliminary \n125  Departures  2014*  244900   holiday  Q3  Preliminary \n127  Departures  2014*  260300   holiday  Q4  Preliminary \n312    Arrivals  2014*   50100  business  Q1  Preliminary \n313    Arrivals  2014*   38500  business  Q2  Preliminary \n314    Arrivals  2014*   43000  business  Q3  Preliminary \n315    Arrivals  2014*   35300  business  Q4  Preliminary \n329  Departures  2014*   53600  business  Q1  Preliminary \n331  Departures  2014*   45600  business  Q2  Preliminary \n333  Departures  2014*   45700  business  Q3  Preliminary \n335  Departures  2014*   48100  business  Q4  Preliminary \n520    Arrivals  2014*   28500   transit  Q1  Preliminary \n521    Arrivals  2014*   22900   transit  Q2  Preliminary \n522    Arrivals  2014*   22200   transit  Q3  Preliminary \n523    Arrivals  2014*   15500   transit  Q4  Preliminary \n537  Departures  2014*   33700   transit  Q1  Preliminary \n539  Departures  2014*   23700   transit  Q2  Preliminary \n541  Departures  2014*   24400   transit  Q3  Preliminary \n543  Departures  2014*   25700   transit  Q4  Preliminary \n728    Arrivals  2014*   37100     Other  Q1  Preliminary \n729    Arrivals  2014*   24200     Other  Q2  Preliminary \n730    Arrivals  2014*   36700     Other  Q3  Preliminary \n731    Arrivals  2014*   19500     Other  Q4  Preliminary \n745  Departures  2014*   40100     Other  Q1  Preliminary \n747  Departures  2014*   37000     Other  Q2  Preliminary \n749  Departures  2014*   40400     Other  Q3  Preliminary \n751  Departures  2014*   40100     Other  Q4  Preliminary ",
      "text/html": "<div>\n<style scoped>\n    .dataframe tbody tr th:only-of-type {\n        vertical-align: middle;\n    }\n\n    .dataframe tbody tr th {\n        vertical-align: top;\n    }\n\n    .dataframe thead th {\n        text-align: right;\n    }\n</style>\n<table border=\"1\" class=\"dataframe\">\n  <thead>\n    <tr style=\"text-align: right;\">\n      <th></th>\n      <th>move</th>\n      <th>year</th>\n      <th>num</th>\n      <th>purpose</th>\n      <th>Q</th>\n      <th>status</th>\n    </tr>\n  </thead>\n  <tbody>\n    <tr>\n      <th>104</th>\n      <td>Arrivals</td>\n      <td>2014*</td>\n      <td>266200</td>\n      <td>holiday</td>\n      <td>Q1</td>\n      <td>Preliminary</td>\n    </tr>\n    <tr>\n      <th>105</th>\n      <td>Arrivals</td>\n      <td>2014*</td>\n      <td>207000</td>\n      <td>holiday</td>\n      <td>Q2</td>\n      <td>Preliminary</td>\n    </tr>\n    <tr>\n      <th>106</th>\n      <td>Arrivals</td>\n      <td>2014*</td>\n      <td>267900</td>\n      <td>holiday</td>\n      <td>Q3</td>\n      <td>Preliminary</td>\n    </tr>\n    <tr>\n      <th>107</th>\n      <td>Arrivals</td>\n      <td>2014*</td>\n      <td>235700</td>\n      <td>holiday</td>\n      <td>Q4</td>\n      <td>Preliminary</td>\n    </tr>\n    <tr>\n      <th>121</th>\n      <td>Departures</td>\n      <td>2014*</td>\n      <td>234600</td>\n      <td>holiday</td>\n      <td>Q1</td>\n      <td>Preliminary</td>\n    </tr>\n    <tr>\n      <th>123</th>\n      <td>Departures</td>\n      <td>2014*</td>\n      <td>205600</td>\n      <td>holiday</td>\n      <td>Q2</td>\n      <td>Preliminary</td>\n    </tr>\n    <tr>\n      <th>125</th>\n      <td>Departures</td>\n      <td>2014*</td>\n      <td>244900</td>\n      <td>holiday</td>\n      <td>Q3</td>\n      <td>Preliminary</td>\n    </tr>\n    <tr>\n      <th>127</th>\n      <td>Departures</td>\n      <td>2014*</td>\n      <td>260300</td>\n      <td>holiday</td>\n      <td>Q4</td>\n      <td>Preliminary</td>\n    </tr>\n    <tr>\n      <th>312</th>\n      <td>Arrivals</td>\n      <td>2014*</td>\n      <td>50100</td>\n      <td>business</td>\n      <td>Q1</td>\n      <td>Preliminary</td>\n    </tr>\n    <tr>\n      <th>313</th>\n      <td>Arrivals</td>\n      <td>2014*</td>\n      <td>38500</td>\n      <td>business</td>\n      <td>Q2</td>\n      <td>Preliminary</td>\n    </tr>\n    <tr>\n      <th>314</th>\n      <td>Arrivals</td>\n      <td>2014*</td>\n      <td>43000</td>\n      <td>business</td>\n      <td>Q3</td>\n      <td>Preliminary</td>\n    </tr>\n    <tr>\n      <th>315</th>\n      <td>Arrivals</td>\n      <td>2014*</td>\n      <td>35300</td>\n      <td>business</td>\n      <td>Q4</td>\n      <td>Preliminary</td>\n    </tr>\n    <tr>\n      <th>329</th>\n      <td>Departures</td>\n      <td>2014*</td>\n      <td>53600</td>\n      <td>business</td>\n      <td>Q1</td>\n      <td>Preliminary</td>\n    </tr>\n    <tr>\n      <th>331</th>\n      <td>Departures</td>\n      <td>2014*</td>\n      <td>45600</td>\n      <td>business</td>\n      <td>Q2</td>\n      <td>Preliminary</td>\n    </tr>\n    <tr>\n      <th>333</th>\n      <td>Departures</td>\n      <td>2014*</td>\n      <td>45700</td>\n      <td>business</td>\n      <td>Q3</td>\n      <td>Preliminary</td>\n    </tr>\n    <tr>\n      <th>335</th>\n      <td>Departures</td>\n      <td>2014*</td>\n      <td>48100</td>\n      <td>business</td>\n      <td>Q4</td>\n      <td>Preliminary</td>\n    </tr>\n    <tr>\n      <th>520</th>\n      <td>Arrivals</td>\n      <td>2014*</td>\n      <td>28500</td>\n      <td>transit</td>\n      <td>Q1</td>\n      <td>Preliminary</td>\n    </tr>\n    <tr>\n      <th>521</th>\n      <td>Arrivals</td>\n      <td>2014*</td>\n      <td>22900</td>\n      <td>transit</td>\n      <td>Q2</td>\n      <td>Preliminary</td>\n    </tr>\n    <tr>\n      <th>522</th>\n      <td>Arrivals</td>\n      <td>2014*</td>\n      <td>22200</td>\n      <td>transit</td>\n      <td>Q3</td>\n      <td>Preliminary</td>\n    </tr>\n    <tr>\n      <th>523</th>\n      <td>Arrivals</td>\n      <td>2014*</td>\n      <td>15500</td>\n      <td>transit</td>\n      <td>Q4</td>\n      <td>Preliminary</td>\n    </tr>\n    <tr>\n      <th>537</th>\n      <td>Departures</td>\n      <td>2014*</td>\n      <td>33700</td>\n      <td>transit</td>\n      <td>Q1</td>\n      <td>Preliminary</td>\n    </tr>\n    <tr>\n      <th>539</th>\n      <td>Departures</td>\n      <td>2014*</td>\n      <td>23700</td>\n      <td>transit</td>\n      <td>Q2</td>\n      <td>Preliminary</td>\n    </tr>\n    <tr>\n      <th>541</th>\n      <td>Departures</td>\n      <td>2014*</td>\n      <td>24400</td>\n      <td>transit</td>\n      <td>Q3</td>\n      <td>Preliminary</td>\n    </tr>\n    <tr>\n      <th>543</th>\n      <td>Departures</td>\n      <td>2014*</td>\n      <td>25700</td>\n      <td>transit</td>\n      <td>Q4</td>\n      <td>Preliminary</td>\n    </tr>\n    <tr>\n      <th>728</th>\n      <td>Arrivals</td>\n      <td>2014*</td>\n      <td>37100</td>\n      <td>Other</td>\n      <td>Q1</td>\n      <td>Preliminary</td>\n    </tr>\n    <tr>\n      <th>729</th>\n      <td>Arrivals</td>\n      <td>2014*</td>\n      <td>24200</td>\n      <td>Other</td>\n      <td>Q2</td>\n      <td>Preliminary</td>\n    </tr>\n    <tr>\n      <th>730</th>\n      <td>Arrivals</td>\n      <td>2014*</td>\n      <td>36700</td>\n      <td>Other</td>\n      <td>Q3</td>\n      <td>Preliminary</td>\n    </tr>\n    <tr>\n      <th>731</th>\n      <td>Arrivals</td>\n      <td>2014*</td>\n      <td>19500</td>\n      <td>Other</td>\n      <td>Q4</td>\n      <td>Preliminary</td>\n    </tr>\n    <tr>\n      <th>745</th>\n      <td>Departures</td>\n      <td>2014*</td>\n      <td>40100</td>\n      <td>Other</td>\n      <td>Q1</td>\n      <td>Preliminary</td>\n    </tr>\n    <tr>\n      <th>747</th>\n      <td>Departures</td>\n      <td>2014*</td>\n      <td>37000</td>\n      <td>Other</td>\n      <td>Q2</td>\n      <td>Preliminary</td>\n    </tr>\n    <tr>\n      <th>749</th>\n      <td>Departures</td>\n      <td>2014*</td>\n      <td>40400</td>\n      <td>Other</td>\n      <td>Q3</td>\n      <td>Preliminary</td>\n    </tr>\n    <tr>\n      <th>751</th>\n      <td>Departures</td>\n      <td>2014*</td>\n      <td>40100</td>\n      <td>Other</td>\n      <td>Q4</td>\n      <td>Preliminary</td>\n    </tr>\n  </tbody>\n</table>\n</div>"
     },
     "metadata": {},
     "execution_count": 12
    }
   ],
   "source": [
    "df[df['year'] == \"2014*\"]"
   ]
  },
  {
   "source": [
    "CLEANING:\n"
   ],
   "cell_type": "markdown",
   "metadata": {}
  },
  {
   "source": [
    "renaming the columns and picking the important:"
   ],
   "cell_type": "markdown",
   "metadata": {}
  },
  {
   "cell_type": "code",
   "execution_count": 5,
   "metadata": {},
   "outputs": [],
   "source": [
    "df.columns = ['move', 'date', 'year', 'num', 'purpose', 'Q', 'status', 'id']"
   ]
  },
  {
   "cell_type": "code",
   "execution_count": 6,
   "metadata": {},
   "outputs": [],
   "source": [
    "df = df[['move', 'year', 'num', 'purpose', 'Q', 'status']]"
   ]
  },
  {
   "source": [
    "Finding and changing some values in the purpose column"
   ],
   "cell_type": "markdown",
   "metadata": {}
  },
  {
   "cell_type": "code",
   "execution_count": 7,
   "metadata": {},
   "outputs": [],
   "source": [
    "df.loc[df['purpose'] == 'Visitors on Holiday', 'purpose'] = 'holiday'\n",
    "df.loc[df['purpose'] == 'Visitors on Business', 'purpose'] = 'business'\n",
    "df.loc[df['purpose'] == 'Visitors in Transit', 'purpose'] = 'transit'"
   ]
  },
  {
   "source": [
    "Confirming the changes"
   ],
   "cell_type": "markdown",
   "metadata": {}
  },
  {
   "cell_type": "code",
   "execution_count": 8,
   "metadata": {},
   "outputs": [
    {
     "output_type": "execute_result",
     "data": {
      "text/plain": "       move  year     num  purpose   Q  status\n0  Arrivals  2005  264600  holiday  Q1  Actual\n1  Arrivals  1991  149400  holiday  Q2  Actual\n2  Arrivals  1991  215900  holiday  Q3  Actual\n3  Arrivals  1991  158400  holiday  Q4  Actual\n4  Arrivals  1992  155400  holiday  Q1  Actual",
      "text/html": "<div>\n<style scoped>\n    .dataframe tbody tr th:only-of-type {\n        vertical-align: middle;\n    }\n\n    .dataframe tbody tr th {\n        vertical-align: top;\n    }\n\n    .dataframe thead th {\n        text-align: right;\n    }\n</style>\n<table border=\"1\" class=\"dataframe\">\n  <thead>\n    <tr style=\"text-align: right;\">\n      <th></th>\n      <th>move</th>\n      <th>year</th>\n      <th>num</th>\n      <th>purpose</th>\n      <th>Q</th>\n      <th>status</th>\n    </tr>\n  </thead>\n  <tbody>\n    <tr>\n      <th>0</th>\n      <td>Arrivals</td>\n      <td>2005</td>\n      <td>264600</td>\n      <td>holiday</td>\n      <td>Q1</td>\n      <td>Actual</td>\n    </tr>\n    <tr>\n      <th>1</th>\n      <td>Arrivals</td>\n      <td>1991</td>\n      <td>149400</td>\n      <td>holiday</td>\n      <td>Q2</td>\n      <td>Actual</td>\n    </tr>\n    <tr>\n      <th>2</th>\n      <td>Arrivals</td>\n      <td>1991</td>\n      <td>215900</td>\n      <td>holiday</td>\n      <td>Q3</td>\n      <td>Actual</td>\n    </tr>\n    <tr>\n      <th>3</th>\n      <td>Arrivals</td>\n      <td>1991</td>\n      <td>158400</td>\n      <td>holiday</td>\n      <td>Q4</td>\n      <td>Actual</td>\n    </tr>\n    <tr>\n      <th>4</th>\n      <td>Arrivals</td>\n      <td>1992</td>\n      <td>155400</td>\n      <td>holiday</td>\n      <td>Q1</td>\n      <td>Actual</td>\n    </tr>\n  </tbody>\n</table>\n</div>"
     },
     "metadata": {},
     "execution_count": 8
    }
   ],
   "source": [
    "df.head()"
   ]
  },
  {
   "cell_type": "code",
   "execution_count": 9,
   "metadata": {},
   "outputs": [
    {
     "output_type": "execute_result",
     "data": {
      "text/plain": "           move  year    num purpose   Q  status\n827  Departures  2013  32600   Other  Q4  Actual\n828  Departures  1991   1100   Other  Q4  Actual\n829  Departures  1992   1300   Other  Q4  Actual\n830  Departures  1993   2400   Other  Q4  Actual\n831  Departures  1994   2600   Other  Q4  Actual",
      "text/html": "<div>\n<style scoped>\n    .dataframe tbody tr th:only-of-type {\n        vertical-align: middle;\n    }\n\n    .dataframe tbody tr th {\n        vertical-align: top;\n    }\n\n    .dataframe thead th {\n        text-align: right;\n    }\n</style>\n<table border=\"1\" class=\"dataframe\">\n  <thead>\n    <tr style=\"text-align: right;\">\n      <th></th>\n      <th>move</th>\n      <th>year</th>\n      <th>num</th>\n      <th>purpose</th>\n      <th>Q</th>\n      <th>status</th>\n    </tr>\n  </thead>\n  <tbody>\n    <tr>\n      <th>827</th>\n      <td>Departures</td>\n      <td>2013</td>\n      <td>32600</td>\n      <td>Other</td>\n      <td>Q4</td>\n      <td>Actual</td>\n    </tr>\n    <tr>\n      <th>828</th>\n      <td>Departures</td>\n      <td>1991</td>\n      <td>1100</td>\n      <td>Other</td>\n      <td>Q4</td>\n      <td>Actual</td>\n    </tr>\n    <tr>\n      <th>829</th>\n      <td>Departures</td>\n      <td>1992</td>\n      <td>1300</td>\n      <td>Other</td>\n      <td>Q4</td>\n      <td>Actual</td>\n    </tr>\n    <tr>\n      <th>830</th>\n      <td>Departures</td>\n      <td>1993</td>\n      <td>2400</td>\n      <td>Other</td>\n      <td>Q4</td>\n      <td>Actual</td>\n    </tr>\n    <tr>\n      <th>831</th>\n      <td>Departures</td>\n      <td>1994</td>\n      <td>2600</td>\n      <td>Other</td>\n      <td>Q4</td>\n      <td>Actual</td>\n    </tr>\n  </tbody>\n</table>\n</div>"
     },
     "metadata": {},
     "execution_count": 9
    }
   ],
   "source": [
    "df.tail()"
   ]
  },
  {
   "cell_type": "code",
   "execution_count": 10,
   "metadata": {},
   "outputs": [
    {
     "output_type": "execute_result",
     "data": {
      "text/plain": "           move  year     num   purpose   Q  status\n208    Arrivals  2005  516000  business  Q1  Actual\n209    Arrivals  1991   16600  business  Q2  Actual\n210    Arrivals  1991   23100  business  Q3  Actual\n211    Arrivals  1991   20000  business  Q4  Actual\n212    Arrivals  1992   39100  business  Q1  Actual\n..          ...   ...     ...       ...  ..     ...\n411  Departures  2013   53000  business  Q4  Actual\n412  Departures  1991   16400  business  Q4  Actual\n413  Departures  1992   16300  business  Q4  Actual\n414  Departures  1993   30000  business  Q4  Actual\n415  Departures  1994   32600  business  Q4  Actual\n\n[208 rows x 6 columns]",
      "text/html": "<div>\n<style scoped>\n    .dataframe tbody tr th:only-of-type {\n        vertical-align: middle;\n    }\n\n    .dataframe tbody tr th {\n        vertical-align: top;\n    }\n\n    .dataframe thead th {\n        text-align: right;\n    }\n</style>\n<table border=\"1\" class=\"dataframe\">\n  <thead>\n    <tr style=\"text-align: right;\">\n      <th></th>\n      <th>move</th>\n      <th>year</th>\n      <th>num</th>\n      <th>purpose</th>\n      <th>Q</th>\n      <th>status</th>\n    </tr>\n  </thead>\n  <tbody>\n    <tr>\n      <th>208</th>\n      <td>Arrivals</td>\n      <td>2005</td>\n      <td>516000</td>\n      <td>business</td>\n      <td>Q1</td>\n      <td>Actual</td>\n    </tr>\n    <tr>\n      <th>209</th>\n      <td>Arrivals</td>\n      <td>1991</td>\n      <td>16600</td>\n      <td>business</td>\n      <td>Q2</td>\n      <td>Actual</td>\n    </tr>\n    <tr>\n      <th>210</th>\n      <td>Arrivals</td>\n      <td>1991</td>\n      <td>23100</td>\n      <td>business</td>\n      <td>Q3</td>\n      <td>Actual</td>\n    </tr>\n    <tr>\n      <th>211</th>\n      <td>Arrivals</td>\n      <td>1991</td>\n      <td>20000</td>\n      <td>business</td>\n      <td>Q4</td>\n      <td>Actual</td>\n    </tr>\n    <tr>\n      <th>212</th>\n      <td>Arrivals</td>\n      <td>1992</td>\n      <td>39100</td>\n      <td>business</td>\n      <td>Q1</td>\n      <td>Actual</td>\n    </tr>\n    <tr>\n      <th>...</th>\n      <td>...</td>\n      <td>...</td>\n      <td>...</td>\n      <td>...</td>\n      <td>...</td>\n      <td>...</td>\n    </tr>\n    <tr>\n      <th>411</th>\n      <td>Departures</td>\n      <td>2013</td>\n      <td>53000</td>\n      <td>business</td>\n      <td>Q4</td>\n      <td>Actual</td>\n    </tr>\n    <tr>\n      <th>412</th>\n      <td>Departures</td>\n      <td>1991</td>\n      <td>16400</td>\n      <td>business</td>\n      <td>Q4</td>\n      <td>Actual</td>\n    </tr>\n    <tr>\n      <th>413</th>\n      <td>Departures</td>\n      <td>1992</td>\n      <td>16300</td>\n      <td>business</td>\n      <td>Q4</td>\n      <td>Actual</td>\n    </tr>\n    <tr>\n      <th>414</th>\n      <td>Departures</td>\n      <td>1993</td>\n      <td>30000</td>\n      <td>business</td>\n      <td>Q4</td>\n      <td>Actual</td>\n    </tr>\n    <tr>\n      <th>415</th>\n      <td>Departures</td>\n      <td>1994</td>\n      <td>32600</td>\n      <td>business</td>\n      <td>Q4</td>\n      <td>Actual</td>\n    </tr>\n  </tbody>\n</table>\n<p>208 rows × 6 columns</p>\n</div>"
     },
     "metadata": {},
     "execution_count": 10
    }
   ],
   "source": [
    "df[df['purpose'] == \"business\"]"
   ]
  },
  {
   "cell_type": "code",
   "execution_count": 11,
   "metadata": {},
   "outputs": [
    {
     "output_type": "execute_result",
     "data": {
      "text/plain": "           move  year    num  purpose   Q  status\n416    Arrivals  2005  22200  transit  Q1  Actual\n417    Arrivals  1991   5100  transit  Q2  Actual\n418    Arrivals  1991  13200  transit  Q3  Actual\n419    Arrivals  1991  12500  transit  Q4  Actual\n420    Arrivals  1992  19200  transit  Q1  Actual\n..          ...   ...    ...      ...  ..     ...\n619  Departures  2013  23200  transit  Q4  Actual\n620  Departures  1991  12600  transit  Q4  Actual\n621  Departures  1992   9400  transit  Q4  Actual\n622  Departures  1993  17300  transit  Q4  Actual\n623  Departures  1994  18800  transit  Q4  Actual\n\n[208 rows x 6 columns]",
      "text/html": "<div>\n<style scoped>\n    .dataframe tbody tr th:only-of-type {\n        vertical-align: middle;\n    }\n\n    .dataframe tbody tr th {\n        vertical-align: top;\n    }\n\n    .dataframe thead th {\n        text-align: right;\n    }\n</style>\n<table border=\"1\" class=\"dataframe\">\n  <thead>\n    <tr style=\"text-align: right;\">\n      <th></th>\n      <th>move</th>\n      <th>year</th>\n      <th>num</th>\n      <th>purpose</th>\n      <th>Q</th>\n      <th>status</th>\n    </tr>\n  </thead>\n  <tbody>\n    <tr>\n      <th>416</th>\n      <td>Arrivals</td>\n      <td>2005</td>\n      <td>22200</td>\n      <td>transit</td>\n      <td>Q1</td>\n      <td>Actual</td>\n    </tr>\n    <tr>\n      <th>417</th>\n      <td>Arrivals</td>\n      <td>1991</td>\n      <td>5100</td>\n      <td>transit</td>\n      <td>Q2</td>\n      <td>Actual</td>\n    </tr>\n    <tr>\n      <th>418</th>\n      <td>Arrivals</td>\n      <td>1991</td>\n      <td>13200</td>\n      <td>transit</td>\n      <td>Q3</td>\n      <td>Actual</td>\n    </tr>\n    <tr>\n      <th>419</th>\n      <td>Arrivals</td>\n      <td>1991</td>\n      <td>12500</td>\n      <td>transit</td>\n      <td>Q4</td>\n      <td>Actual</td>\n    </tr>\n    <tr>\n      <th>420</th>\n      <td>Arrivals</td>\n      <td>1992</td>\n      <td>19200</td>\n      <td>transit</td>\n      <td>Q1</td>\n      <td>Actual</td>\n    </tr>\n    <tr>\n      <th>...</th>\n      <td>...</td>\n      <td>...</td>\n      <td>...</td>\n      <td>...</td>\n      <td>...</td>\n      <td>...</td>\n    </tr>\n    <tr>\n      <th>619</th>\n      <td>Departures</td>\n      <td>2013</td>\n      <td>23200</td>\n      <td>transit</td>\n      <td>Q4</td>\n      <td>Actual</td>\n    </tr>\n    <tr>\n      <th>620</th>\n      <td>Departures</td>\n      <td>1991</td>\n      <td>12600</td>\n      <td>transit</td>\n      <td>Q4</td>\n      <td>Actual</td>\n    </tr>\n    <tr>\n      <th>621</th>\n      <td>Departures</td>\n      <td>1992</td>\n      <td>9400</td>\n      <td>transit</td>\n      <td>Q4</td>\n      <td>Actual</td>\n    </tr>\n    <tr>\n      <th>622</th>\n      <td>Departures</td>\n      <td>1993</td>\n      <td>17300</td>\n      <td>transit</td>\n      <td>Q4</td>\n      <td>Actual</td>\n    </tr>\n    <tr>\n      <th>623</th>\n      <td>Departures</td>\n      <td>1994</td>\n      <td>18800</td>\n      <td>transit</td>\n      <td>Q4</td>\n      <td>Actual</td>\n    </tr>\n  </tbody>\n</table>\n<p>208 rows × 6 columns</p>\n</div>"
     },
     "metadata": {},
     "execution_count": 11
    }
   ],
   "source": [
    "df[df['purpose'] == \"transit\"]"
   ]
  },
  {
   "source": [
    "Checking for duplicate entries"
   ],
   "cell_type": "markdown",
   "metadata": {}
  },
  {
   "cell_type": "code",
   "execution_count": 92,
   "metadata": {},
   "outputs": [
    {
     "output_type": "execute_result",
     "data": {
      "text/plain": "0"
     },
     "metadata": {},
     "execution_count": 92
    }
   ],
   "source": [
    "df.duplicated().sum()\n"
   ]
  },
  {
   "source": [
    "There are none"
   ],
   "cell_type": "markdown",
   "metadata": {}
  },
  {
   "source": [
    "ANALYSIS:"
   ],
   "cell_type": "markdown",
   "metadata": {}
  },
  {
   "source": [
    "a) UNIVARIATE ANALYSIS:\n",
    "\n",
    "Analysis of the num variable, which is the number of visitors:"
   ],
   "cell_type": "markdown",
   "metadata": {}
  },
  {
   "cell_type": "code",
   "execution_count": 13,
   "metadata": {},
   "outputs": [
    {
     "output_type": "execute_result",
     "data": {
      "text/plain": "count    8.320000e+02\nmean     8.400349e+04\nstd      1.672371e+05\nmin      2.000000e+02\n25%      1.827500e+04\n50%      3.210000e+04\n75%      1.196750e+05\nmax      2.966000e+06\nName: num, dtype: float64"
     },
     "metadata": {},
     "execution_count": 13
    }
   ],
   "source": [
    "descr = df['num'].describe()\n",
    "descr"
   ]
  },
  {
   "cell_type": "code",
   "execution_count": 14,
   "metadata": {},
   "outputs": [
    {
     "output_type": "execute_result",
     "data": {
      "text/plain": "27968236004.683323"
     },
     "metadata": {},
     "execution_count": 14
    }
   ],
   "source": [
    "df['num'].var()"
   ]
  },
  {
   "cell_type": "code",
   "execution_count": 15,
   "metadata": {},
   "outputs": [
    {
     "output_type": "execute_result",
     "data": {
      "text/plain": "167237.0652836366"
     },
     "metadata": {},
     "execution_count": 15
    }
   ],
   "source": [
    "df['num'].std()"
   ]
  },
  {
   "cell_type": "code",
   "execution_count": 16,
   "metadata": {},
   "outputs": [
    {
     "output_type": "execute_result",
     "data": {
      "text/plain": "11.414670075091141"
     },
     "metadata": {},
     "execution_count": 16
    }
   ],
   "source": [
    "df['num'].skew()"
   ]
  },
  {
   "cell_type": "code",
   "execution_count": 17,
   "metadata": {},
   "outputs": [
    {
     "output_type": "execute_result",
     "data": {
      "text/plain": "183.64413696629836"
     },
     "metadata": {},
     "execution_count": 17
    }
   ],
   "source": [
    "df['num'].kurt()"
   ]
  },
  {
   "source": [
    "b) BIVARIATE ANALYSIS:"
   ],
   "cell_type": "markdown",
   "metadata": {}
  },
  {
   "cell_type": "code",
   "execution_count": 50,
   "metadata": {},
   "outputs": [
    {
     "output_type": "execute_result",
     "data": {
      "text/plain": "year\n2005     6714300\n2006     6417200\n2007     4607400\n2009*    3491000\n2011     3351100\n2012     3226900\n2010     3111400\n2013     3001600\n2014*    2753800\n2008     2662700\n2003     2292400\n2000     2071900\n2002     2002800\n2001     1986000\n1996     1983800\n1995     1939900\n1999*    1937700\n1997     1909100\n1998     1762400\n2004*    1757100\n1994     1728500\n1993     1514000\n1991     1486100\n2009     1468300\n1992     1431900\n1995*    1348000\n1999      969300\n2004'     964300\nName: num, dtype: int64"
     },
     "metadata": {},
     "execution_count": 50
    }
   ],
   "source": [
    "yearly = df['num'].groupby(df['year']).sum()\n",
    "yearly = yearly.sort_values(ascending = False)\n",
    "yearly"
   ]
  },
  {
   "cell_type": "code",
   "execution_count": null,
   "metadata": {},
   "outputs": [],
   "source": []
  },
  {
   "cell_type": "code",
   "execution_count": 83,
   "metadata": {},
   "outputs": [
    {
     "output_type": "execute_result",
     "data": {
      "text/plain": "Q\nQ1    19705500\nQ4    19338300\nQ3    17130300\nQ2    13716800\nName: num, dtype: int64"
     },
     "metadata": {},
     "execution_count": 83
    }
   ],
   "source": [
    "quat = df['num'].groupby(df['Q']).sum().sort_values(ascending = False)\n",
    "quat"
   ]
  },
  {
   "cell_type": "code",
   "execution_count": 82,
   "metadata": {},
   "outputs": [
    {
     "output_type": "execute_result",
     "data": {
      "text/plain": "purpose\nholiday     49871000\nbusiness     9556500\ntransit      6068200\nOther        4395200\nName: num, dtype: int64"
     },
     "metadata": {},
     "execution_count": 82
    }
   ],
   "source": [
    "pup = df['num'].groupby(df['purpose']).sum().sort_values(ascending = False)\n",
    "pup"
   ]
  },
  {
   "source": [
    "c) MULTIVARIATE ANALYSIS:"
   ],
   "cell_type": "markdown",
   "metadata": {}
  },
  {
   "cell_type": "code",
   "execution_count": 48,
   "metadata": {},
   "outputs": [
    {
     "output_type": "execute_result",
     "data": {
      "text/plain": "year   purpose \n1991   Other         21700\n       business     146100\n       holiday     1232800\n       transit       85500\n1992   Other         21800\n                    ...   \n2013   transit      168300\n2014*  Other        275100\n       business     359900\n       holiday     1922200\n       transit      196600\nName: num, Length: 112, dtype: int64"
     },
     "metadata": {},
     "execution_count": 48
    }
   ],
   "source": [
    "yr_pup = df['num'].groupby([df['year'], df['purpose']]).sum()\n",
    "yr_pup"
   ]
  },
  {
   "cell_type": "code",
   "execution_count": 53,
   "metadata": {},
   "outputs": [
    {
     "output_type": "execute_result",
     "data": {
      "text/plain": "year   Q \n1991   Q1    355300\n       Q2    314900\n       Q3    444200\n       Q4    371700\n1992   Q1    441300\n              ...  \n2013   Q4    882600\n2014*  Q1    743900\n       Q2    604500\n       Q3    725200\n       Q4    680200\nName: num, Length: 111, dtype: int64"
     },
     "metadata": {},
     "execution_count": 53
    }
   ],
   "source": [
    "yr_quat = df['num'].groupby([df['year'], df['Q']]).sum()\n",
    "yr_quat"
   ]
  },
  {
   "cell_type": "code",
   "execution_count": 81,
   "metadata": {},
   "outputs": [
    {
     "output_type": "execute_result",
     "data": {
      "text/plain": "Q   purpose \nQ1  Other        1271300\n    business     3103000\n    holiday     13790300\n    transit      1540900\nQ2  Other         841500\n    business     2126500\n    holiday      9501900\n    transit      1246900\nQ3  Other        1409200\n    business     1873700\n    holiday     12162000\n    transit      1685400\nQ4  Other         873200\n    business     2453300\n    holiday     14416800\n    transit      1595000\nName: num, dtype: int64"
     },
     "metadata": {},
     "execution_count": 81
    }
   ],
   "source": [
    "q_pup = df['num'].groupby([df['Q'], df['purpose']]).sum()\n",
    "q_pup.columns = ['Q', 'purpose', 'num']\n",
    "q_pup"
   ]
  },
  {
   "source": [
    "VISUALIZATION:\n"
   ],
   "cell_type": "markdown",
   "metadata": {}
  },
  {
   "cell_type": "code",
   "execution_count": null,
   "metadata": {},
   "outputs": [],
   "source": []
  }
 ]
}